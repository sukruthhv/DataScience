{
 "cells": [
  {
   "cell_type": "code",
   "execution_count": 35,
   "metadata": {
    "collapsed": true
   },
   "outputs": [],
   "source": [
    "import numpy as np\n",
    "import pandas as pd\n",
    "import matplotlib.pyplot as plt\n",
    "import statsmodels.api as sm\n",
    "import seaborn as sns\n",
    "sns.set()"
   ]
  },
  {
   "cell_type": "code",
   "execution_count": 36,
   "metadata": {
    "collapsed": true
   },
   "outputs": [],
   "source": [
    "fifa_dataset=pd.read_csv(\"data.csv\")"
   ]
  },
  {
   "cell_type": "code",
   "execution_count": 37,
   "metadata": {
    "collapsed": true
   },
   "outputs": [],
   "source": [
    "def func(x):\n",
    "    x=x.fillna(x.mean()).astype(np.int64)\n",
    "    return x\n",
    "\n",
    "fifa_dataset[['Agility','Acceleration','Balance','Positioning','Skill Moves','BallControl','Crossing','Finishing','Reactions','SprintSpeed']]= func(fifa_dataset[['Agility','Acceleration','Balance','Positioning','Skill Moves','BallControl','Crossing','Finishing','Reactions','SprintSpeed']])"
   ]
  },
  {
   "cell_type": "code",
   "execution_count": 38,
   "metadata": {
    "collapsed": true
   },
   "outputs": [],
   "source": [
    "y = fifa_dataset['SprintSpeed']\n",
    "x1 = fifa_dataset[['Agility', 'Acceleration', 'Balance','Reactions','Positioning','Skill Moves','BallControl','Crossing','Finishing']]"
   ]
  },
  {
   "cell_type": "code",
   "execution_count": 39,
   "metadata": {
    "collapsed": false
   },
   "outputs": [
    {
     "data": {
      "text/html": [
       "<table class=\"simpletable\">\n",
       "<caption>OLS Regression Results</caption>\n",
       "<tr>\n",
       "  <th>Dep. Variable:</th>       <td>SprintSpeed</td>   <th>  R-squared:         </th> <td>   0.855</td> \n",
       "</tr>\n",
       "<tr>\n",
       "  <th>Model:</th>                   <td>OLS</td>       <th>  Adj. R-squared:    </th> <td>   0.855</td> \n",
       "</tr>\n",
       "<tr>\n",
       "  <th>Method:</th>             <td>Least Squares</td>  <th>  F-statistic:       </th> <td>1.193e+04</td>\n",
       "</tr>\n",
       "<tr>\n",
       "  <th>Date:</th>             <td>Wed, 22 Apr 2020</td> <th>  Prob (F-statistic):</th>  <td>  0.00</td>  \n",
       "</tr>\n",
       "<tr>\n",
       "  <th>Time:</th>                 <td>11:58:15</td>     <th>  Log-Likelihood:    </th> <td> -57105.</td> \n",
       "</tr>\n",
       "<tr>\n",
       "  <th>No. Observations:</th>      <td> 18207</td>      <th>  AIC:               </th> <td>1.142e+05</td>\n",
       "</tr>\n",
       "<tr>\n",
       "  <th>Df Residuals:</th>          <td> 18197</td>      <th>  BIC:               </th> <td>1.143e+05</td>\n",
       "</tr>\n",
       "<tr>\n",
       "  <th>Df Model:</th>              <td>     9</td>      <th>                     </th>     <td> </td>    \n",
       "</tr>\n",
       "<tr>\n",
       "  <th>Covariance Type:</th>      <td>nonrobust</td>    <th>                     </th>     <td> </td>    \n",
       "</tr>\n",
       "</table>\n",
       "<table class=\"simpletable\">\n",
       "<tr>\n",
       "        <td></td>          <th>coef</th>     <th>std err</th>      <th>t</th>      <th>P>|t|</th> <th>[95.0% Conf. Int.]</th> \n",
       "</tr>\n",
       "<tr>\n",
       "  <th>const</th>        <td>    7.9276</td> <td>    0.363</td> <td>   21.868</td> <td> 0.000</td> <td>    7.217     8.638</td>\n",
       "</tr>\n",
       "<tr>\n",
       "  <th>Agility</th>      <td>    0.0485</td> <td>    0.006</td> <td>    8.337</td> <td> 0.000</td> <td>    0.037     0.060</td>\n",
       "</tr>\n",
       "<tr>\n",
       "  <th>Acceleration</th> <td>    0.8562</td> <td>    0.005</td> <td>  167.272</td> <td> 0.000</td> <td>    0.846     0.866</td>\n",
       "</tr>\n",
       "<tr>\n",
       "  <th>Balance</th>      <td>   -0.0670</td> <td>    0.005</td> <td>  -13.936</td> <td> 0.000</td> <td>   -0.076    -0.058</td>\n",
       "</tr>\n",
       "<tr>\n",
       "  <th>Reactions</th>    <td>   -0.0218</td> <td>    0.005</td> <td>   -4.115</td> <td> 0.000</td> <td>   -0.032    -0.011</td>\n",
       "</tr>\n",
       "<tr>\n",
       "  <th>Positioning</th>  <td>    0.0172</td> <td>    0.006</td> <td>    2.859</td> <td> 0.004</td> <td>    0.005     0.029</td>\n",
       "</tr>\n",
       "<tr>\n",
       "  <th>Skill Moves</th>  <td>   -0.4697</td> <td>    0.103</td> <td>   -4.576</td> <td> 0.000</td> <td>   -0.671    -0.268</td>\n",
       "</tr>\n",
       "<tr>\n",
       "  <th>BallControl</th>  <td>    0.0643</td> <td>    0.006</td> <td>   10.155</td> <td> 0.000</td> <td>    0.052     0.077</td>\n",
       "</tr>\n",
       "<tr>\n",
       "  <th>Crossing</th>     <td>    0.0062</td> <td>    0.005</td> <td>    1.346</td> <td> 0.178</td> <td>   -0.003     0.015</td>\n",
       "</tr>\n",
       "<tr>\n",
       "  <th>Finishing</th>    <td>    0.0049</td> <td>    0.005</td> <td>    1.009</td> <td> 0.313</td> <td>   -0.005     0.014</td>\n",
       "</tr>\n",
       "</table>\n",
       "<table class=\"simpletable\">\n",
       "<tr>\n",
       "  <th>Omnibus:</th>       <td>1326.013</td> <th>  Durbin-Watson:     </th> <td>   2.010</td>\n",
       "</tr>\n",
       "<tr>\n",
       "  <th>Prob(Omnibus):</th>  <td> 0.000</td>  <th>  Jarque-Bera (JB):  </th> <td>5250.049</td>\n",
       "</tr>\n",
       "<tr>\n",
       "  <th>Skew:</th>           <td>-0.275</td>  <th>  Prob(JB):          </th> <td>    0.00</td>\n",
       "</tr>\n",
       "<tr>\n",
       "  <th>Kurtosis:</th>       <td> 5.573</td>  <th>  Cond. No.          </th> <td>1.47e+03</td>\n",
       "</tr>\n",
       "</table>"
      ],
      "text/plain": [
       "<class 'statsmodels.iolib.summary.Summary'>\n",
       "\"\"\"\n",
       "                            OLS Regression Results                            \n",
       "==============================================================================\n",
       "Dep. Variable:            SprintSpeed   R-squared:                       0.855\n",
       "Model:                            OLS   Adj. R-squared:                  0.855\n",
       "Method:                 Least Squares   F-statistic:                 1.193e+04\n",
       "Date:                Wed, 22 Apr 2020   Prob (F-statistic):               0.00\n",
       "Time:                        11:58:15   Log-Likelihood:                -57105.\n",
       "No. Observations:               18207   AIC:                         1.142e+05\n",
       "Df Residuals:                   18197   BIC:                         1.143e+05\n",
       "Df Model:                           9                                         \n",
       "Covariance Type:            nonrobust                                         \n",
       "================================================================================\n",
       "                   coef    std err          t      P>|t|      [95.0% Conf. Int.]\n",
       "--------------------------------------------------------------------------------\n",
       "const            7.9276      0.363     21.868      0.000         7.217     8.638\n",
       "Agility          0.0485      0.006      8.337      0.000         0.037     0.060\n",
       "Acceleration     0.8562      0.005    167.272      0.000         0.846     0.866\n",
       "Balance         -0.0670      0.005    -13.936      0.000        -0.076    -0.058\n",
       "Reactions       -0.0218      0.005     -4.115      0.000        -0.032    -0.011\n",
       "Positioning      0.0172      0.006      2.859      0.004         0.005     0.029\n",
       "Skill Moves     -0.4697      0.103     -4.576      0.000        -0.671    -0.268\n",
       "BallControl      0.0643      0.006     10.155      0.000         0.052     0.077\n",
       "Crossing         0.0062      0.005      1.346      0.178        -0.003     0.015\n",
       "Finishing        0.0049      0.005      1.009      0.313        -0.005     0.014\n",
       "==============================================================================\n",
       "Omnibus:                     1326.013   Durbin-Watson:                   2.010\n",
       "Prob(Omnibus):                  0.000   Jarque-Bera (JB):             5250.049\n",
       "Skew:                          -0.275   Prob(JB):                         0.00\n",
       "Kurtosis:                       5.573   Cond. No.                     1.47e+03\n",
       "==============================================================================\n",
       "\n",
       "Warnings:\n",
       "[1] Standard Errors assume that the covariance matrix of the errors is correctly specified.\n",
       "[2] The condition number is large, 1.47e+03. This might indicate that there are\n",
       "strong multicollinearity or other numerical problems.\n",
       "\"\"\""
      ]
     },
     "execution_count": 39,
     "metadata": {},
     "output_type": "execute_result"
    }
   ],
   "source": [
    "x=sm.add_constant(x1)\n",
    "res = sm.OLS(y,x).fit()\n",
    "res.summary()"
   ]
  },
  {
   "cell_type": "code",
   "execution_count": 26,
   "metadata": {
    "collapsed": false,
    "scrolled": true
   },
   "outputs": [
    {
     "data": {
      "text/plain": [
       "Unnamed: 0                                                              25\n",
       "ID                                                                  231747\n",
       "Name                                                             K. Mbappé\n",
       "Age                                                                     19\n",
       "Photo                       https://cdn.sofifa.org/players/4/19/231747.png\n",
       "Nationality                                                         France\n",
       "Flag                                   https://cdn.sofifa.org/flags/18.png\n",
       "Overall                                                                 88\n",
       "Potential                                                               95\n",
       "Club                                                   Paris Saint-Germain\n",
       "Club Logo                      https://cdn.sofifa.org/teams/2/light/73.png\n",
       "Value                                                                 €81M\n",
       "Wage                                                                 €100K\n",
       "Special                                                               2118\n",
       "Preferred Foot                                                       Right\n",
       "International Reputation                                                 3\n",
       "Weak Foot                                                                4\n",
       "Skill Moves                                                              5\n",
       "Work Rate                                                     High/ Medium\n",
       "Body Type                                                             Lean\n",
       "Real Face                                                              Yes\n",
       "Position                                                                RM\n",
       "Jersey Number                                                           10\n",
       "Joined                                                            1-Jul-18\n",
       "Loaned From                                                            NaN\n",
       "Contract Valid Until                                                  2022\n",
       "Height                                                                5'10\n",
       "Weight                                                              161lbs\n",
       "LS                                                                    85+3\n",
       "ST                                                                    85+3\n",
       "                                                 ...                      \n",
       "Dribbling                                                               90\n",
       "Curve                                                                   77\n",
       "FKAccuracy                                                              63\n",
       "LongPassing                                                             73\n",
       "BallControl                                                             91\n",
       "Acceleration                                                            96\n",
       "SprintSpeed                                                             96\n",
       "Agility                                                                 92\n",
       "Reactions                                                               87\n",
       "Balance                                                                 83\n",
       "ShotPower                                                               79\n",
       "Jumping                                                                 75\n",
       "Stamina                                                                 83\n",
       "Strength                                                                71\n",
       "LongShots                                                               78\n",
       "Aggression                                                              62\n",
       "Interceptions                                                           38\n",
       "Positioning                                                             88\n",
       "Vision                                                                  82\n",
       "Penalties                                                               70\n",
       "Composure                                                               86\n",
       "Marking                                                                 34\n",
       "StandingTackle                                                          34\n",
       "SlidingTackle                                                           32\n",
       "GKDiving                                                                13\n",
       "GKHandling                                                               5\n",
       "GKKicking                                                                7\n",
       "GKPositioning                                                           11\n",
       "GKReflexes                                                               6\n",
       "Release Clause                                                     €166.1M\n",
       "Name: 25, dtype: object"
      ]
     },
     "execution_count": 26,
     "metadata": {},
     "output_type": "execute_result"
    }
   ],
   "source": [
    "sample=fifa_dataset.iloc[25]\n",
    "sample\n",
    "#stats = sample [['Agility', 'Acceleration', 'Balance','Reactions','Positioning','Skill Moves','BallControl','Crossing','Finishing']]\n",
    "#stats['Agility']\n"
   ]
  },
  {
   "cell_type": "code",
   "execution_count": 25,
   "metadata": {
    "collapsed": false
   },
   "outputs": [
    {
     "data": {
      "text/plain": [
       "93.052199999999985"
      ]
     },
     "execution_count": 25,
     "metadata": {},
     "output_type": "execute_result"
    }
   ],
   "source": [
    "yhat= 7.9276 + (stats['Agility']*0.0485) + (stats['Acceleration']*0.8562) + (stats['Balance']*-0.0670) + (stats['Reactions']*-0.0218) +(stats['Positioning']*0.0172) +(stats['Skill Moves']*-0.4697)+ (stats['BallControl']*0.0643) + (stats['Crossing']*0.0062)+(stats['Finishing']*0.0049)\n",
    "yhat"
   ]
  },
  {
   "cell_type": "code",
   "execution_count": 28,
   "metadata": {
    "collapsed": false
   },
   "outputs": [
    {
     "data": {
      "text/plain": [
       "LinearRegression(copy_X=True, fit_intercept=True, n_jobs=1, normalize=False)"
      ]
     },
     "execution_count": 28,
     "metadata": {},
     "output_type": "execute_result"
    }
   ],
   "source": [
    "from sklearn.metrics import mean_absolute_error\n",
    "from sklearn.linear_model import LinearRegression\n",
    "\n",
    "model = LinearRegression()\n",
    "model.fit(x1,y)"
   ]
  },
  {
   "cell_type": "code",
   "execution_count": null,
   "metadata": {
    "collapsed": true
   },
   "outputs": [],
   "source": []
  }
 ],
 "metadata": {
  "kernelspec": {
   "display_name": "Python 3",
   "language": "python",
   "name": "python3"
  },
  "language_info": {
   "codemirror_mode": {
    "name": "ipython",
    "version": 3
   },
   "file_extension": ".py",
   "mimetype": "text/x-python",
   "name": "python",
   "nbconvert_exporter": "python",
   "pygments_lexer": "ipython3",
   "version": "3.6.0"
  }
 },
 "nbformat": 4,
 "nbformat_minor": 2
}
